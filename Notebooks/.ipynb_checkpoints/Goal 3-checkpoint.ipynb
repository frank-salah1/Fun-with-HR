{
 "cells": [
  {
   "cell_type": "code",
   "execution_count": 1,
   "metadata": {},
   "outputs": [
    {
     "name": "stdout",
     "output_type": "stream",
     "text": [
      "Collecting package metadata (current_repodata.json): ...working... done\n",
      "Solving environment: ...working... done\n",
      "\n",
      "# All requested packages already installed.\n",
      "\n"
     ]
    },
    {
     "name": "stderr",
     "output_type": "stream",
     "text": [
      "C:\\Users\\frank\\anaconda3\\lib\\site-packages\\sklearn\\utils\\deprecation.py:143: FutureWarning: The sklearn.metrics.classification module is  deprecated in version 0.22 and will be removed in version 0.24. The corresponding classes / functions should instead be imported from sklearn.metrics. Anything that cannot be imported from sklearn.metrics is now part of the private API.\n",
      "  warnings.warn(message, FutureWarning)\n"
     ]
    }
   ],
   "source": [
    "#install and import libraries\n",
    "import sys\n",
    "\n",
    "!conda install --yes --prefix {sys.prefix} -c districtdatalabs yellowbrick\n",
    "from yellowbrick.cluster import KElbowVisualizer\n",
    "\n",
    "from sklearn.cluster import KMeans\n",
    "from sklearn.preprocessing import StandardScaler\n",
    "\n",
    "import matplotlib.pyplot as plt\n",
    "import numpy as np\n",
    "\n",
    "import pandas as pd\n",
    "\n",
    "from Functions import *"
   ]
  },
  {
   "cell_type": "code",
   "execution_count": 2,
   "metadata": {},
   "outputs": [
    {
     "data": {
      "text/html": [
       "<div>\n",
       "<style scoped>\n",
       "    .dataframe tbody tr th:only-of-type {\n",
       "        vertical-align: middle;\n",
       "    }\n",
       "\n",
       "    .dataframe tbody tr th {\n",
       "        vertical-align: top;\n",
       "    }\n",
       "\n",
       "    .dataframe thead th {\n",
       "        text-align: right;\n",
       "    }\n",
       "</style>\n",
       "<table border=\"1\" class=\"dataframe\">\n",
       "  <thead>\n",
       "    <tr style=\"text-align: right;\">\n",
       "      <th></th>\n",
       "      <th>Ht</th>\n",
       "      <th>Wt</th>\n",
       "      <th>Forty</th>\n",
       "      <th>Vertical</th>\n",
       "    </tr>\n",
       "    <tr>\n",
       "      <th>Player</th>\n",
       "      <th></th>\n",
       "      <th></th>\n",
       "      <th></th>\n",
       "      <th></th>\n",
       "    </tr>\n",
       "  </thead>\n",
       "  <tbody>\n",
       "    <tr>\n",
       "      <th>Plaxico Burress</th>\n",
       "      <td>77</td>\n",
       "      <td>231</td>\n",
       "      <td>4.59</td>\n",
       "      <td>33.0</td>\n",
       "    </tr>\n",
       "    <tr>\n",
       "      <th>Kwame Cavil</th>\n",
       "      <td>74</td>\n",
       "      <td>208</td>\n",
       "      <td>4.54</td>\n",
       "      <td>39.5</td>\n",
       "    </tr>\n",
       "    <tr>\n",
       "      <th>Chris Cole</th>\n",
       "      <td>72</td>\n",
       "      <td>191</td>\n",
       "      <td>4.37</td>\n",
       "      <td>37.5</td>\n",
       "    </tr>\n",
       "    <tr>\n",
       "      <th>Chris Coleman</th>\n",
       "      <td>72</td>\n",
       "      <td>211</td>\n",
       "      <td>4.61</td>\n",
       "      <td>32.5</td>\n",
       "    </tr>\n",
       "    <tr>\n",
       "      <th>Laveranues Coles</th>\n",
       "      <td>71</td>\n",
       "      <td>192</td>\n",
       "      <td>4.41</td>\n",
       "      <td>34.0</td>\n",
       "    </tr>\n",
       "  </tbody>\n",
       "</table>\n",
       "</div>"
      ],
      "text/plain": [
       "                  Ht   Wt  Forty  Vertical\n",
       "Player                                    \n",
       "Plaxico Burress   77  231   4.59      33.0\n",
       "Kwame Cavil       74  208   4.54      39.5\n",
       "Chris Cole        72  191   4.37      37.5\n",
       "Chris Coleman     72  211   4.61      32.5\n",
       "Laveranues Coles  71  192   4.41      34.0"
      ]
     },
     "execution_count": 2,
     "metadata": {},
     "output_type": "execute_result"
    }
   ],
   "source": [
    "#read in NFL combine WR file\n",
    "file = '..\\\\Data\\\\NFL_Combine_WR.csv'\n",
    "df = pd.read_csv(file, index_col=0)\n",
    "df.head()"
   ]
  },
  {
   "cell_type": "code",
   "execution_count": 3,
   "metadata": {},
   "outputs": [
    {
     "data": {
      "image/png": "[encoded data removed]",
      "text/plain": [
       "<Figure size 576x396 with 1 Axes>"
      ]
     },
     "metadata": {},
     "output_type": "display_data"
    }
   ],
   "source": [
    "#determine kmeans groups\n",
    "kmeans_groups(min=2, max=10, df = df[['Ht', 'Wt', 'Forty', 'Vertical']])"
   ]
  },
  {
   "cell_type": "code",
   "execution_count": 5,
   "metadata": {},
   "outputs": [
    {
     "data": {
      "text/plain": [
       "array([[ 73.59832636, 208.83263598,   4.52564854,  35.11506276],\n",
       "       [ 75.00909091, 224.48181818,   4.54918182,  35.07272727],\n",
       "       [ 70.13761468, 179.88073394,   4.48431193,  35.10091743],\n",
       "       [ 71.98245614, 194.71052632,   4.50039474,  35.49561404]])"
      ]
     },
     "execution_count": 5,
     "metadata": {},
     "output_type": "execute_result"
    }
   ],
   "source": [
    "#4 groupings were deemed appropriate based on the score about\n",
    "#plot dataset\n",
    "k_means, y_hat = kmeans_clust (n_clusters=4, df=df[['Ht', 'Wt', 'Forty', 'Vertical']])\n",
    "\n",
    "\n",
    "df['Predict_All'] = y_hat\n",
    "\n",
    "cl_centers = k_means.cluster_centers_\n",
    "cl_centers\n"
   ]
  },
  {
   "cell_type": "code",
   "execution_count": 6,
   "metadata": {
    "scrolled": true
   },
   "outputs": [
    {
     "data": {
      "text/html": [
       "<div>\n",
       "<style scoped>\n",
       "    .dataframe tbody tr th:only-of-type {\n",
       "        vertical-align: middle;\n",
       "    }\n",
       "\n",
       "    .dataframe tbody tr th {\n",
       "        vertical-align: top;\n",
       "    }\n",
       "\n",
       "    .dataframe thead th {\n",
       "        text-align: right;\n",
       "    }\n",
       "</style>\n",
       "<table border=\"1\" class=\"dataframe\">\n",
       "  <thead>\n",
       "    <tr style=\"text-align: right;\">\n",
       "      <th></th>\n",
       "      <th>Ht</th>\n",
       "      <th>Wt</th>\n",
       "      <th>Forty</th>\n",
       "      <th>Vertical</th>\n",
       "      <th>Predict_All</th>\n",
       "    </tr>\n",
       "    <tr>\n",
       "      <th>Player</th>\n",
       "      <th></th>\n",
       "      <th></th>\n",
       "      <th></th>\n",
       "      <th></th>\n",
       "      <th></th>\n",
       "    </tr>\n",
       "  </thead>\n",
       "  <tbody>\n",
       "    <tr>\n",
       "      <th>Plaxico Burress</th>\n",
       "      <td>77</td>\n",
       "      <td>231</td>\n",
       "      <td>4.59</td>\n",
       "      <td>33.0</td>\n",
       "      <td>1</td>\n",
       "    </tr>\n",
       "    <tr>\n",
       "      <th>Kwame Cavil</th>\n",
       "      <td>74</td>\n",
       "      <td>208</td>\n",
       "      <td>4.54</td>\n",
       "      <td>39.5</td>\n",
       "      <td>0</td>\n",
       "    </tr>\n",
       "    <tr>\n",
       "      <th>Chris Cole</th>\n",
       "      <td>72</td>\n",
       "      <td>191</td>\n",
       "      <td>4.37</td>\n",
       "      <td>37.5</td>\n",
       "      <td>3</td>\n",
       "    </tr>\n",
       "    <tr>\n",
       "      <th>Chris Coleman</th>\n",
       "      <td>72</td>\n",
       "      <td>211</td>\n",
       "      <td>4.61</td>\n",
       "      <td>32.5</td>\n",
       "      <td>0</td>\n",
       "    </tr>\n",
       "    <tr>\n",
       "      <th>Laveranues Coles</th>\n",
       "      <td>71</td>\n",
       "      <td>192</td>\n",
       "      <td>4.41</td>\n",
       "      <td>34.0</td>\n",
       "      <td>3</td>\n",
       "    </tr>\n",
       "    <tr>\n",
       "      <th>...</th>\n",
       "      <td>...</td>\n",
       "      <td>...</td>\n",
       "      <td>...</td>\n",
       "      <td>...</td>\n",
       "      <td>...</td>\n",
       "    </tr>\n",
       "    <tr>\n",
       "      <th>Jester Weah</th>\n",
       "      <td>74</td>\n",
       "      <td>211</td>\n",
       "      <td>4.43</td>\n",
       "      <td>38.0</td>\n",
       "      <td>0</td>\n",
       "    </tr>\n",
       "    <tr>\n",
       "      <th>Karaun White</th>\n",
       "      <td>73</td>\n",
       "      <td>206</td>\n",
       "      <td>4.52</td>\n",
       "      <td>33.5</td>\n",
       "      <td>0</td>\n",
       "    </tr>\n",
       "    <tr>\n",
       "      <th>Jake Wieneke</th>\n",
       "      <td>76</td>\n",
       "      <td>221</td>\n",
       "      <td>4.67</td>\n",
       "      <td>34.0</td>\n",
       "      <td>1</td>\n",
       "    </tr>\n",
       "    <tr>\n",
       "      <th>Cedrick Wilson-02</th>\n",
       "      <td>74</td>\n",
       "      <td>197</td>\n",
       "      <td>4.55</td>\n",
       "      <td>37.0</td>\n",
       "      <td>3</td>\n",
       "    </tr>\n",
       "    <tr>\n",
       "      <th>Javon Wims</th>\n",
       "      <td>75</td>\n",
       "      <td>215</td>\n",
       "      <td>4.53</td>\n",
       "      <td>33.5</td>\n",
       "      <td>0</td>\n",
       "    </tr>\n",
       "  </tbody>\n",
       "</table>\n",
       "<p>686 rows × 5 columns</p>\n",
       "</div>"
      ],
      "text/plain": [
       "                   Ht   Wt  Forty  Vertical  Predict_All\n",
       "Player                                                  \n",
       "Plaxico Burress    77  231   4.59      33.0            1\n",
       "Kwame Cavil        74  208   4.54      39.5            0\n",
       "Chris Cole         72  191   4.37      37.5            3\n",
       "Chris Coleman      72  211   4.61      32.5            0\n",
       "Laveranues Coles   71  192   4.41      34.0            3\n",
       "...                ..  ...    ...       ...          ...\n",
       "Jester Weah        74  211   4.43      38.0            0\n",
       "Karaun White       73  206   4.52      33.5            0\n",
       "Jake Wieneke       76  221   4.67      34.0            1\n",
       "Cedrick Wilson-02  74  197   4.55      37.0            3\n",
       "Javon Wims         75  215   4.53      33.5            0\n",
       "\n",
       "[686 rows x 5 columns]"
      ]
     },
     "execution_count": 6,
     "metadata": {},
     "output_type": "execute_result"
    }
   ],
   "source": [
    "df"
   ]
  },
  {
   "cell_type": "code",
   "execution_count": null,
   "metadata": {},
   "outputs": [],
   "source": []
  }
 ],
 "metadata": {
  "kernelspec": {
   "display_name": "Python 3",
   "language": "python",
   "name": "python3"
  },
  "language_info": {
   "codemirror_mode": {
    "name": "ipython",
    "version": 3
   },
   "file_extension": ".py",
   "mimetype": "text/x-python",
   "name": "python",
   "nbconvert_exporter": "python",
   "pygments_lexer": "ipython3",
   "version": "3.8.3"
  }
 },
 "nbformat": 4,
 "nbformat_minor": 4
}
