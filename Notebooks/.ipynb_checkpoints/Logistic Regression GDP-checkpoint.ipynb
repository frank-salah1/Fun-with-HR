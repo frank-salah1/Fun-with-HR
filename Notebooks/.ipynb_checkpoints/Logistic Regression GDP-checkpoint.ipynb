{
 "cells": [
  {
   "cell_type": "code",
   "execution_count": 1,
   "metadata": {},
   "outputs": [
    {
     "name": "stderr",
     "output_type": "stream",
     "text": [
      "C:\\Users\\frank\\anaconda3\\lib\\site-packages\\sklearn\\utils\\deprecation.py:143: FutureWarning: The sklearn.metrics.classification module is  deprecated in version 0.22 and will be removed in version 0.24. The corresponding classes / functions should instead be imported from sklearn.metrics. Anything that cannot be imported from sklearn.metrics is now part of the private API.\n",
      "  warnings.warn(message, FutureWarning)\n"
     ]
    }
   ],
   "source": [
    "#import libraries\n",
    "import pandas as pd\n",
    "import numpy as np\n",
    "import matplotlib.pyplot as plt\n",
    "from sklearn.linear_model import LogisticRegression \n",
    "from sklearn.model_selection import cross_validate\n",
    "from sklearn import metrics\n",
    "import seaborn as sns \n",
    "import pickle\n",
    "from Functions import *\n",
    "\n",
    "\n",
    "%matplotlib inline"
   ]
  },
  {
   "cell_type": "code",
   "execution_count": 3,
   "metadata": {},
   "outputs": [
    {
     "data": {
      "text/html": [
       "<div>\n",
       "<style scoped>\n",
       "    .dataframe tbody tr th:only-of-type {\n",
       "        vertical-align: middle;\n",
       "    }\n",
       "\n",
       "    .dataframe tbody tr th {\n",
       "        vertical-align: top;\n",
       "    }\n",
       "\n",
       "    .dataframe thead th {\n",
       "        text-align: right;\n",
       "    }\n",
       "</style>\n",
       "<table border=\"1\" class=\"dataframe\">\n",
       "  <thead>\n",
       "    <tr style=\"text-align: right;\">\n",
       "      <th></th>\n",
       "      <th>Age</th>\n",
       "      <th>Attrition</th>\n",
       "      <th>BusinessTravel</th>\n",
       "      <th>Department</th>\n",
       "      <th>DistanceFromHome</th>\n",
       "      <th>Education</th>\n",
       "      <th>EducationField</th>\n",
       "      <th>EmployeeCount</th>\n",
       "      <th>Gender</th>\n",
       "      <th>JobLevel</th>\n",
       "      <th>...</th>\n",
       "      <th>NumCompaniesWorked</th>\n",
       "      <th>Over18</th>\n",
       "      <th>PercentSalaryHike</th>\n",
       "      <th>StandardHours</th>\n",
       "      <th>StockOptionLevel</th>\n",
       "      <th>TotalWorkingYears</th>\n",
       "      <th>TrainingTimesLastYear</th>\n",
       "      <th>YearsAtCompany</th>\n",
       "      <th>YearsSinceLastPromotion</th>\n",
       "      <th>YearsWithCurrManager</th>\n",
       "    </tr>\n",
       "    <tr>\n",
       "      <th>EmployeeID</th>\n",
       "      <th></th>\n",
       "      <th></th>\n",
       "      <th></th>\n",
       "      <th></th>\n",
       "      <th></th>\n",
       "      <th></th>\n",
       "      <th></th>\n",
       "      <th></th>\n",
       "      <th></th>\n",
       "      <th></th>\n",
       "      <th></th>\n",
       "      <th></th>\n",
       "      <th></th>\n",
       "      <th></th>\n",
       "      <th></th>\n",
       "      <th></th>\n",
       "      <th></th>\n",
       "      <th></th>\n",
       "      <th></th>\n",
       "      <th></th>\n",
       "      <th></th>\n",
       "    </tr>\n",
       "  </thead>\n",
       "  <tbody>\n",
       "    <tr>\n",
       "      <th>1</th>\n",
       "      <td>51</td>\n",
       "      <td>No</td>\n",
       "      <td>Travel_Rarely</td>\n",
       "      <td>Sales</td>\n",
       "      <td>6</td>\n",
       "      <td>2</td>\n",
       "      <td>Life Sciences</td>\n",
       "      <td>1</td>\n",
       "      <td>Female</td>\n",
       "      <td>1</td>\n",
       "      <td>...</td>\n",
       "      <td>1.0</td>\n",
       "      <td>Y</td>\n",
       "      <td>11</td>\n",
       "      <td>8</td>\n",
       "      <td>0</td>\n",
       "      <td>1.0</td>\n",
       "      <td>6</td>\n",
       "      <td>1</td>\n",
       "      <td>0</td>\n",
       "      <td>0</td>\n",
       "    </tr>\n",
       "    <tr>\n",
       "      <th>2</th>\n",
       "      <td>31</td>\n",
       "      <td>Yes</td>\n",
       "      <td>Travel_Frequently</td>\n",
       "      <td>Research &amp; Development</td>\n",
       "      <td>10</td>\n",
       "      <td>1</td>\n",
       "      <td>Life Sciences</td>\n",
       "      <td>1</td>\n",
       "      <td>Female</td>\n",
       "      <td>1</td>\n",
       "      <td>...</td>\n",
       "      <td>0.0</td>\n",
       "      <td>Y</td>\n",
       "      <td>23</td>\n",
       "      <td>8</td>\n",
       "      <td>1</td>\n",
       "      <td>6.0</td>\n",
       "      <td>3</td>\n",
       "      <td>5</td>\n",
       "      <td>1</td>\n",
       "      <td>4</td>\n",
       "    </tr>\n",
       "    <tr>\n",
       "      <th>3</th>\n",
       "      <td>32</td>\n",
       "      <td>No</td>\n",
       "      <td>Travel_Frequently</td>\n",
       "      <td>Research &amp; Development</td>\n",
       "      <td>17</td>\n",
       "      <td>4</td>\n",
       "      <td>Other</td>\n",
       "      <td>1</td>\n",
       "      <td>Male</td>\n",
       "      <td>4</td>\n",
       "      <td>...</td>\n",
       "      <td>1.0</td>\n",
       "      <td>Y</td>\n",
       "      <td>15</td>\n",
       "      <td>8</td>\n",
       "      <td>3</td>\n",
       "      <td>5.0</td>\n",
       "      <td>2</td>\n",
       "      <td>5</td>\n",
       "      <td>0</td>\n",
       "      <td>3</td>\n",
       "    </tr>\n",
       "    <tr>\n",
       "      <th>4</th>\n",
       "      <td>38</td>\n",
       "      <td>No</td>\n",
       "      <td>Non-Travel</td>\n",
       "      <td>Research &amp; Development</td>\n",
       "      <td>2</td>\n",
       "      <td>5</td>\n",
       "      <td>Life Sciences</td>\n",
       "      <td>1</td>\n",
       "      <td>Male</td>\n",
       "      <td>3</td>\n",
       "      <td>...</td>\n",
       "      <td>3.0</td>\n",
       "      <td>Y</td>\n",
       "      <td>11</td>\n",
       "      <td>8</td>\n",
       "      <td>3</td>\n",
       "      <td>13.0</td>\n",
       "      <td>5</td>\n",
       "      <td>8</td>\n",
       "      <td>7</td>\n",
       "      <td>5</td>\n",
       "    </tr>\n",
       "    <tr>\n",
       "      <th>5</th>\n",
       "      <td>32</td>\n",
       "      <td>No</td>\n",
       "      <td>Travel_Rarely</td>\n",
       "      <td>Research &amp; Development</td>\n",
       "      <td>10</td>\n",
       "      <td>1</td>\n",
       "      <td>Medical</td>\n",
       "      <td>1</td>\n",
       "      <td>Male</td>\n",
       "      <td>1</td>\n",
       "      <td>...</td>\n",
       "      <td>4.0</td>\n",
       "      <td>Y</td>\n",
       "      <td>12</td>\n",
       "      <td>8</td>\n",
       "      <td>2</td>\n",
       "      <td>9.0</td>\n",
       "      <td>2</td>\n",
       "      <td>6</td>\n",
       "      <td>0</td>\n",
       "      <td>4</td>\n",
       "    </tr>\n",
       "  </tbody>\n",
       "</table>\n",
       "<p>5 rows × 23 columns</p>\n",
       "</div>"
      ],
      "text/plain": [
       "            Age Attrition     BusinessTravel              Department  \\\n",
       "EmployeeID                                                             \n",
       "1            51        No      Travel_Rarely                   Sales   \n",
       "2            31       Yes  Travel_Frequently  Research & Development   \n",
       "3            32        No  Travel_Frequently  Research & Development   \n",
       "4            38        No         Non-Travel  Research & Development   \n",
       "5            32        No      Travel_Rarely  Research & Development   \n",
       "\n",
       "            DistanceFromHome  Education EducationField  EmployeeCount  Gender  \\\n",
       "EmployeeID                                                                      \n",
       "1                          6          2  Life Sciences              1  Female   \n",
       "2                         10          1  Life Sciences              1  Female   \n",
       "3                         17          4          Other              1    Male   \n",
       "4                          2          5  Life Sciences              1    Male   \n",
       "5                         10          1        Medical              1    Male   \n",
       "\n",
       "            JobLevel  ... NumCompaniesWorked Over18  PercentSalaryHike  \\\n",
       "EmployeeID            ...                                                \n",
       "1                  1  ...                1.0      Y                 11   \n",
       "2                  1  ...                0.0      Y                 23   \n",
       "3                  4  ...                1.0      Y                 15   \n",
       "4                  3  ...                3.0      Y                 11   \n",
       "5                  1  ...                4.0      Y                 12   \n",
       "\n",
       "            StandardHours StockOptionLevel  TotalWorkingYears  \\\n",
       "EmployeeID                                                      \n",
       "1                       8                0                1.0   \n",
       "2                       8                1                6.0   \n",
       "3                       8                3                5.0   \n",
       "4                       8                3               13.0   \n",
       "5                       8                2                9.0   \n",
       "\n",
       "            TrainingTimesLastYear  YearsAtCompany  YearsSinceLastPromotion  \\\n",
       "EmployeeID                                                                   \n",
       "1                               6               1                        0   \n",
       "2                               3               5                        1   \n",
       "3                               2               5                        0   \n",
       "4                               5               8                        7   \n",
       "5                               2               6                        0   \n",
       "\n",
       "            YearsWithCurrManager  \n",
       "EmployeeID                        \n",
       "1                              0  \n",
       "2                              4  \n",
       "3                              3  \n",
       "4                              5  \n",
       "5                              4  \n",
       "\n",
       "[5 rows x 23 columns]"
      ]
     },
     "execution_count": 3,
     "metadata": {},
     "output_type": "execute_result"
    }
   ],
   "source": [
    "#read in final dataset\n",
    "file = '..\\Data\\Final_Data.csv'\n",
    "df = pd.read_csv(file, index_col=8)\n",
    "df.head()"
   ]
  },
  {
   "cell_type": "code",
   "execution_count": 19,
   "metadata": {},
   "outputs": [
    {
     "data": {
      "text/plain": [
       "{'fit_time': array([0.00451875, 0.00599885, 0.0089972 , 0.00500059, 0.00699997,\n",
       "        0.00399995, 0.0039978 , 0.05103946, 0.00800085, 0.0059979 ]),\n",
       " 'score_time': array([0.00099993, 0.00200033, 0.00100017, 0.0010078 , 0.00100017,\n",
       "        0.0010004 , 0.00099993, 0.00100446, 0.0009985 , 0.00300479]),\n",
       " 'estimator': (LogisticRegression(penalty='none'),\n",
       "  LogisticRegression(penalty='none'),\n",
       "  LogisticRegression(penalty='none'),\n",
       "  LogisticRegression(penalty='none'),\n",
       "  LogisticRegression(penalty='none'),\n",
       "  LogisticRegression(penalty='none'),\n",
       "  LogisticRegression(penalty='none'),\n",
       "  LogisticRegression(penalty='none'),\n",
       "  LogisticRegression(penalty='none'),\n",
       "  LogisticRegression(penalty='none')),\n",
       " 'test_score': array([0.86666667, 0.86666667, 0.86666667, 0.86666667, 0.86666667,\n",
       "        0.14285714, 0.85714286, 0.85714286, 0.85714286, 0.85714286]),\n",
       " 'train_score': array([0.86153846, 0.86153846, 0.86153846, 0.86153846, 0.86153846,\n",
       "        0.13740458, 0.86259542, 0.86259542, 0.86259542, 0.86259542])}"
      ]
     },
     "execution_count": 19,
     "metadata": {},
     "output_type": "execute_result"
    }
   ],
   "source": [
    "#create logistic regression, input GDP, output is_top20\n",
    "X = df[['GDP']]\n",
    "y = df.is_top20\n",
    "crossval = log_reg(X, y, 10)\n",
    "crossval"
   ]
  },
  {
   "cell_type": "code",
   "execution_count": 25,
   "metadata": {},
   "outputs": [
    {
     "data": {
      "image/png": "[encoded data removed]",
      "text/plain": [
       "<Figure size 648x648 with 2 Axes>"
      ]
     },
     "metadata": {
      "needs_background": "light"
     },
     "output_type": "display_data"
    }
   ],
   "source": [
    "#chose model in array slot 0, since it appeared to have one of the highest scores\n",
    "#display predictions vs actuals\n",
    "estimator = crossval['estimator'][8]\n",
    "accuracy_display(estimator, X, y, 'Top 20')"
   ]
  },
  {
   "cell_type": "code",
   "execution_count": 6,
   "metadata": {},
   "outputs": [],
   "source": [
    "#save model to file\n",
    "folder = '..\\\\Models\\\\'\n",
    "filename = 'GDP 20.sav'\n",
    "pickle.dump(estimator, open(folder + filename, 'wb'))"
   ]
  },
  {
   "cell_type": "code",
   "execution_count": 31,
   "metadata": {},
   "outputs": [
    {
     "data": {
      "text/plain": [
       "{'fit_time': array([0.00399947, 0.00500679, 0.00700045, 0.00502944, 0.0059979 ,\n",
       "        0.00500321, 0.00618362, 0.00500131, 0.00499868, 0.00399971,\n",
       "        0.00395942, 0.00601029, 0.00399971, 0.00404835, 0.00395012,\n",
       "        0.00595117, 0.00500154, 0.00602126, 0.00609732, 0.00694728]),\n",
       " 'score_time': array([0.00300241, 0.00199151, 0.0010047 , 0.00197029, 0.00204468,\n",
       "        0.0009985 , 0.00100946, 0.00200129, 0.00099993, 0.00100017,\n",
       "        0.00099921, 0.0019362 , 0.00200868, 0.00198984, 0.00200272,\n",
       "        0.00105023, 0.00099993, 0.00197673, 0.00101233, 0.00100613]),\n",
       " 'estimator': (LogisticRegression(penalty='none'),\n",
       "  LogisticRegression(penalty='none'),\n",
       "  LogisticRegression(penalty='none'),\n",
       "  LogisticRegression(penalty='none'),\n",
       "  LogisticRegression(penalty='none'),\n",
       "  LogisticRegression(penalty='none'),\n",
       "  LogisticRegression(penalty='none'),\n",
       "  LogisticRegression(penalty='none'),\n",
       "  LogisticRegression(penalty='none'),\n",
       "  LogisticRegression(penalty='none'),\n",
       "  LogisticRegression(penalty='none'),\n",
       "  LogisticRegression(penalty='none'),\n",
       "  LogisticRegression(penalty='none'),\n",
       "  LogisticRegression(penalty='none'),\n",
       "  LogisticRegression(penalty='none'),\n",
       "  LogisticRegression(penalty='none'),\n",
       "  LogisticRegression(penalty='none'),\n",
       "  LogisticRegression(penalty='none'),\n",
       "  LogisticRegression(penalty='none'),\n",
       "  LogisticRegression(penalty='none')),\n",
       " 'test_score': array([0.375     , 0.375     , 0.375     , 0.375     , 0.375     ,\n",
       "        0.42857143, 0.57142857, 0.42857143, 0.42857143, 0.28571429,\n",
       "        0.28571429, 0.28571429, 0.28571429, 0.28571429, 0.28571429,\n",
       "        0.28571429, 0.28571429, 0.28571429, 0.28571429, 0.28571429]),\n",
       " 'train_score': array([0.33576642, 0.33576642, 0.33576642, 0.33576642, 0.33576642,\n",
       "        0.33333333, 0.66666667, 0.33333333, 0.33333333, 0.34057971,\n",
       "        0.34057971, 0.34057971, 0.34057971, 0.34057971, 0.34057971,\n",
       "        0.34057971, 0.34057971, 0.34057971, 0.34057971, 0.34057971])}"
      ]
     },
     "execution_count": 31,
     "metadata": {},
     "output_type": "execute_result"
    }
   ],
   "source": [
    "#create logistic regression, input GDP, output is_top50\n",
    "X = df[['GDP']]\n",
    "y = df.is_top50\n",
    "crossval = log_reg(X, y, 20)\n",
    "crossval"
   ]
  },
  {
   "cell_type": "code",
   "execution_count": 33,
   "metadata": {},
   "outputs": [
    {
     "data": {
      "image/png": "[encoded data removed]",
      "text/plain": [
       "<Figure size 648x648 with 2 Axes>"
      ]
     },
     "metadata": {
      "needs_background": "light"
     },
     "output_type": "display_data"
    }
   ],
   "source": [
    "#chose model in array slot 1, since it appeared to have one of the highest scores\n",
    "#display predictions vs actuals\n",
    "estimator = crossval['estimator'][6]\n",
    "accuracy_display(estimator, X, y, 'Top 50')"
   ]
  },
  {
   "cell_type": "code",
   "execution_count": 9,
   "metadata": {},
   "outputs": [],
   "source": [
    "#save model to file\n",
    "folder = '..\\\\Models\\\\'\n",
    "filename = 'GDP 50.sav'\n",
    "pickle.dump(estimator, open(folder + filename, 'wb'))"
   ]
  },
  {
   "cell_type": "code",
   "execution_count": 10,
   "metadata": {},
   "outputs": [
    {
     "data": {
      "text/plain": [
       "{'fit_time': array([0.00596213, 0.00599194, 0.00698423, 0.00599003, 0.00600052]),\n",
       " 'score_time': array([0.0010221 , 0.0010004 , 0.00200081, 0.00200009, 0.00100088]),\n",
       " 'estimator': (LogisticRegression(penalty='none'),\n",
       "  LogisticRegression(penalty='none'),\n",
       "  LogisticRegression(penalty='none'),\n",
       "  LogisticRegression(penalty='none'),\n",
       "  LogisticRegression(penalty='none')),\n",
       " 'test_score': array([0.86206897, 0.89655172, 0.89655172, 0.89655172, 0.89655172]),\n",
       " 'train_score': array([0.89655172, 0.88793103, 0.88793103, 0.88793103, 0.88793103])}"
      ]
     },
     "execution_count": 10,
     "metadata": {},
     "output_type": "execute_result"
    }
   ],
   "source": [
    "#create logistic regression, input GDP, output is_Score7\n",
    "X = df[['GDP']]\n",
    "y = df.is_Score7\n",
    "crossval = log_reg(X, y)\n",
    "crossval"
   ]
  },
  {
   "cell_type": "code",
   "execution_count": 11,
   "metadata": {},
   "outputs": [
    {
     "data": {
      "image/png": "[encoded data removed]",
      "text/plain": [
       "<Figure size 648x648 with 2 Axes>"
      ]
     },
     "metadata": {
      "needs_background": "light"
     },
     "output_type": "display_data"
    }
   ],
   "source": [
    "#chose model in array slot 1, since it appeared to have one of the highest scores\n",
    "#display predictions vs actual\n",
    "estimator = crossval['estimator'][1]\n",
    "accuracy_display(estimator, X, y, 'Score >= 7')"
   ]
  },
  {
   "cell_type": "code",
   "execution_count": 12,
   "metadata": {},
   "outputs": [],
   "source": [
    "#save model to file\n",
    "folder = '..\\\\Models\\\\'\n",
    "filename = 'GDP 7.sav'\n",
    "pickle.dump(estimator, open(folder + filename, 'wb'))"
   ]
  },
  {
   "cell_type": "code",
   "execution_count": 13,
   "metadata": {},
   "outputs": [
    {
     "data": {
      "text/plain": [
       "{'fit_time': array([0.00499701, 0.00600171, 0.00500417, 0.00799513, 0.00400376]),\n",
       " 'score_time': array([0.00100684, 0.0030036 , 0.00099993, 0.00200081, 0.00199962]),\n",
       " 'estimator': (LogisticRegression(penalty='none'),\n",
       "  LogisticRegression(penalty='none'),\n",
       "  LogisticRegression(penalty='none'),\n",
       "  LogisticRegression(penalty='none'),\n",
       "  LogisticRegression(penalty='none')),\n",
       " 'test_score': array([0.37931034, 0.65517241, 0.34482759, 0.34482759, 0.34482759]),\n",
       " 'train_score': array([0.34482759, 0.64655172, 0.35344828, 0.35344828, 0.35344828])}"
      ]
     },
     "execution_count": 13,
     "metadata": {},
     "output_type": "execute_result"
    }
   ],
   "source": [
    "#create logistic regression, input GDP, output is_Score6\n",
    "X = df[['GDP']]\n",
    "y = df.is_Score6\n",
    "crossval = log_reg(X, y)\n",
    "crossval"
   ]
  },
  {
   "cell_type": "code",
   "execution_count": 14,
   "metadata": {},
   "outputs": [
    {
     "data": {
      "image/png": "[encoded data removed]",
      "text/plain": [
       "<Figure size 648x648 with 2 Axes>"
      ]
     },
     "metadata": {
      "needs_background": "light"
     },
     "output_type": "display_data"
    }
   ],
   "source": [
    "#chose model in array slot 1, since it appeared to have one of the highest scores\n",
    "#display predictions vs actual\n",
    "estimator = crossval['estimator'][1]\n",
    "accuracy_display(estimator, X, y, 'Score >= 6')"
   ]
  },
  {
   "cell_type": "code",
   "execution_count": 15,
   "metadata": {},
   "outputs": [],
   "source": [
    "#save model to file\n",
    "folder = '..\\\\Models\\\\'\n",
    "filename = 'GDP 6.sav'\n",
    "pickle.dump(estimator, open(folder + filename, 'wb'))"
   ]
  },
  {
   "cell_type": "code",
   "execution_count": 12,
   "metadata": {},
   "outputs": [],
   "source": [
    "from sklearn import datasets, linear_model\n",
    "from sklearn.model_selection import cross_val_predict\n",
    "diabetes = datasets.load_diabetes()\n",
    "X = diabetes.data[:150]\n",
    "y = diabetes.target[:150]\n",
    "lasso = linear_model.Lasso()\n",
    "y_pred = cross_val_predict(lasso, X, y, cv=3)"
   ]
  },
  {
   "cell_type": "code",
   "execution_count": 15,
   "metadata": {},
   "outputs": [
    {
     "data": {
      "text/plain": [
       "array([174.26933996, 117.6539241 , 164.60228641, 155.65049088,\n",
       "       132.68647979, 128.49511245, 120.76146877, 141.069413  ,\n",
       "       164.18904498, 182.37394949, 111.04181265, 127.94311443,\n",
       "       135.0869234 , 162.83066014, 135.3573514 , 157.64516523,\n",
       "       178.95843326, 163.3919841 , 143.85237903, 144.29748882,\n",
       "       133.58117218, 124.77928571, 132.90918003, 208.52927   ,\n",
       "       153.61908967, 154.16616341, 118.95351821, 163.50467541,\n",
       "       145.89406196, 168.3308101 , 155.87411031, 123.45960148,\n",
       "       185.70459144, 133.38468582, 117.2789469 , 150.27895019,\n",
       "       174.1541028 , 160.03235091, 192.31389633, 161.58568256,\n",
       "       154.2224809 , 119.35517679, 146.15706413, 133.82056934,\n",
       "       179.68118754, 137.96619936, 146.07788398, 126.77579723,\n",
       "       123.32101099, 166.26710247, 146.41559964, 161.67261029,\n",
       "       147.47731459, 138.44595305, 144.85421048, 113.77990664,\n",
       "       185.54970402, 115.31624749, 142.23672103, 171.07792136,\n",
       "       132.5394716 , 177.80524864, 116.5616502 , 134.25230846,\n",
       "       142.88707475, 173.2830912 , 154.31273504, 149.16680759,\n",
       "       144.88238997, 121.97783103, 110.38457621, 180.25559631,\n",
       "       199.06141058, 151.1195546 , 161.14217698, 153.96960812,\n",
       "       150.77179755, 113.30903579, 165.15755771, 115.85735727,\n",
       "       174.19267171, 150.12027233, 115.47891783, 153.38967232,\n",
       "       115.31573467, 156.49909623,  92.62211515, 178.15649994,\n",
       "       131.59320715, 134.46166754, 116.97678633, 190.00790119,\n",
       "       166.01173292, 126.25944471, 134.29256991, 144.71971963,\n",
       "       190.9769591 , 182.39199466, 154.45325308, 148.30325558,\n",
       "       151.72036937, 124.12825466, 138.6011155 , 137.75891286,\n",
       "       123.0917243 , 131.74735403, 112.07367481, 124.56956904,\n",
       "       156.78432061, 128.63135591,  93.68260079, 130.54324394,\n",
       "       131.8693231 , 154.5708257 , 179.81343019, 165.78130755,\n",
       "       150.04779033, 162.37974736, 143.92996797, 143.15645843,\n",
       "       125.20161377, 145.99590279, 155.3505536 , 145.97574185,\n",
       "       134.66120515, 163.92450638, 101.92329396, 139.33014324,\n",
       "       122.71377023, 152.20573113, 153.36931089, 116.76545147,\n",
       "       131.96936127, 109.74817383, 132.57453994, 159.38030328,\n",
       "       109.31343881, 147.69926269, 156.3664255 , 161.12509958,\n",
       "       128.16523686, 156.78446286, 154.04375702, 124.83705022,\n",
       "       143.85606595, 143.23651701, 147.76316913, 154.21572891,\n",
       "       129.07895017, 157.79644923])"
      ]
     },
     "execution_count": 15,
     "metadata": {},
     "output_type": "execute_result"
    }
   ],
   "source": [
    "y_pred"
   ]
  },
  {
   "cell_type": "code",
   "execution_count": null,
   "metadata": {},
   "outputs": [],
   "source": []
  }
 ],
 "metadata": {
  "kernelspec": {
   "display_name": "Python 3",
   "language": "python",
   "name": "python3"
  },
  "language_info": {
   "codemirror_mode": {
    "name": "ipython",
    "version": 3
   },
   "file_extension": ".py",
   "mimetype": "text/x-python",
   "name": "python",
   "nbconvert_exporter": "python",
   "pygments_lexer": "ipython3",
   "version": "3.8.3"
  }
 },
 "nbformat": 4,
 "nbformat_minor": 4
}
